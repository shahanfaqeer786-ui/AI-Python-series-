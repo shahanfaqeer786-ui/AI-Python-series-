{
  "nbformat": 4,
  "nbformat_minor": 0,
  "metadata": {
    "colab": {
      "provenance": [],
      "authorship_tag": "ABX9TyPzCzYt/PEQg/l37Wl2Sb4x",
      "include_colab_link": true
    },
    "kernelspec": {
      "name": "python3",
      "display_name": "Python 3"
    },
    "language_info": {
      "name": "python"
    }
  },
  "cells": [
    {
      "cell_type": "markdown",
      "metadata": {
        "id": "view-in-github",
        "colab_type": "text"
      },
      "source": [
        "<a href=\"https://colab.research.google.com/github/shahanfaqeer786-ui/AI-Python-series-/blob/main/Python_numpy.ipynb\" target=\"_parent\"><img src=\"https://colab.research.google.com/assets/colab-badge.svg\" alt=\"Open In Colab\"/></a>"
      ]
    },
    {
      "cell_type": "markdown",
      "source": [
        "##Numpy:\n",
        "Numpy is a general purpose array-processing package. It provides a high prfomance multidimentional array object and tools for working with these array. it is fundamental package for scienctific computing with python."
      ],
      "metadata": {
        "id": "3AysTQUnspS7"
      }
    },
    {
      "cell_type": "markdown",
      "source": [
        "##What is array?\n",
        "An array is data structure that store values if some data types. in python this is the main differnce between array and lists while python lists can contain values corresponding to different data types.arrays in python can only contains values corresponding to same data types.\n",
        "\n",
        "\n"
      ],
      "metadata": {
        "id": "6YGWWtZutU5V"
      }
    },
    {
      "cell_type": "code",
      "execution_count": 1,
      "metadata": {
        "id": "aqMK5GUqskvd"
      },
      "outputs": [],
      "source": [
        "## Import the library\n",
        "import numpy as np\n"
      ]
    },
    {
      "cell_type": "code",
      "source": [
        "#single dimenstion array\n",
        "# start with single bracket and closed also 1 bracket\n",
        "lst = [1,2,3,4]\n",
        "np.array(lst)\n"
      ],
      "metadata": {
        "colab": {
          "base_uri": "https://localhost:8080/"
        },
        "id": "jqb8VspzStZs",
        "outputId": "a0cdbb5d-5ba5-452f-9622-0d77a52e874d"
      },
      "execution_count": 2,
      "outputs": [
        {
          "output_type": "execute_result",
          "data": {
            "text/plain": [
              "array([1, 2, 3, 4])"
            ]
          },
          "metadata": {},
          "execution_count": 2
        }
      ]
    },
    {
      "cell_type": "code",
      "source": [
        "lst = [1,2,3,4]\n",
        "arr=np.array(lst)\n"
      ],
      "metadata": {
        "id": "RrrGd9hqTM-v"
      },
      "execution_count": 3,
      "outputs": []
    },
    {
      "cell_type": "code",
      "source": [
        "type(arr)\n"
      ],
      "metadata": {
        "colab": {
          "base_uri": "https://localhost:8080/"
        },
        "id": "jl4To-DbS_k8",
        "outputId": "71588b2e-8ade-40b0-bf3c-e7b31b93de58"
      },
      "execution_count": 4,
      "outputs": [
        {
          "output_type": "execute_result",
          "data": {
            "text/plain": [
              "numpy.ndarray"
            ]
          },
          "metadata": {},
          "execution_count": 4
        }
      ]
    },
    {
      "cell_type": "code",
      "source": [
        "## Shape of array\n",
        "ls=[1,2,3,4,5]\n",
        "array=np.array(ls)\n",
        "array.shape"
      ],
      "metadata": {
        "colab": {
          "base_uri": "https://localhost:8080/"
        },
        "id": "Yruvqa4PTbaN",
        "outputId": "2b3a040f-d32f-44de-bee0-54459d24a01a"
      },
      "execution_count": 5,
      "outputs": [
        {
          "output_type": "execute_result",
          "data": {
            "text/plain": [
              "(5,)"
            ]
          },
          "metadata": {},
          "execution_count": 5
        }
      ]
    },
    {
      "cell_type": "code",
      "source": [
        "### Two dimenstional Array/Multinested list\n",
        "### Open with two bracket and close also two bracket\n",
        "lst1 = [1,2,3,4,5]\n",
        "lst2 = [2,3,4,5,6]\n",
        "lst3 = [9,7,6,8,9]\n",
        "\n",
        "arr1=np.array([lst1,lst2,lst3])"
      ],
      "metadata": {
        "id": "dkDJjP7yUDv_"
      },
      "execution_count": 6,
      "outputs": []
    },
    {
      "cell_type": "code",
      "source": [
        "arr1"
      ],
      "metadata": {
        "colab": {
          "base_uri": "https://localhost:8080/"
        },
        "id": "Hevu30JAV2yr",
        "outputId": "3a6f43b4-7690-4f5c-d18f-8aeec6cf33d0"
      },
      "execution_count": 7,
      "outputs": [
        {
          "output_type": "execute_result",
          "data": {
            "text/plain": [
              "array([[1, 2, 3, 4, 5],\n",
              "       [2, 3, 4, 5, 6],\n",
              "       [9, 7, 6, 8, 9]])"
            ]
          },
          "metadata": {},
          "execution_count": 7
        }
      ]
    },
    {
      "cell_type": "code",
      "source": [
        "arr1.shape"
      ],
      "metadata": {
        "colab": {
          "base_uri": "https://localhost:8080/"
        },
        "id": "rzuKyCxaV786",
        "outputId": "1d2bd7f8-883f-4b7f-eb16-3076c710cf18"
      },
      "execution_count": 8,
      "outputs": [
        {
          "output_type": "execute_result",
          "data": {
            "text/plain": [
              "(3, 5)"
            ]
          },
          "metadata": {},
          "execution_count": 8
        }
      ]
    },
    {
      "cell_type": "code",
      "source": [
        "arr1.reshape(5,3)"
      ],
      "metadata": {
        "colab": {
          "base_uri": "https://localhost:8080/"
        },
        "id": "4oQoXuFvNd1w",
        "outputId": "e5dc4e01-2a9b-45aa-8a85-57b8d274d298"
      },
      "execution_count": 9,
      "outputs": [
        {
          "output_type": "execute_result",
          "data": {
            "text/plain": [
              "array([[1, 2, 3],\n",
              "       [4, 5, 2],\n",
              "       [3, 4, 5],\n",
              "       [6, 9, 7],\n",
              "       [6, 8, 9]])"
            ]
          },
          "metadata": {},
          "execution_count": 9
        }
      ]
    },
    {
      "cell_type": "code",
      "source": [
        "arr1.reshape(1,15)"
      ],
      "metadata": {
        "colab": {
          "base_uri": "https://localhost:8080/"
        },
        "id": "I1kYiZNqN-3Q",
        "outputId": "1ea9e314-e925-48f4-967b-9789cde2c5b6"
      },
      "execution_count": 10,
      "outputs": [
        {
          "output_type": "execute_result",
          "data": {
            "text/plain": [
              "array([[1, 2, 3, 4, 5, 2, 3, 4, 5, 6, 9, 7, 6, 8, 9]])"
            ]
          },
          "metadata": {},
          "execution_count": 10
        }
      ]
    },
    {
      "cell_type": "code",
      "source": [
        "arr"
      ],
      "metadata": {
        "colab": {
          "base_uri": "https://localhost:8080/"
        },
        "id": "9-hVPfJ_XoeK",
        "outputId": "5484bc00-3c5b-474b-b31a-11019044f964"
      },
      "execution_count": 11,
      "outputs": [
        {
          "output_type": "execute_result",
          "data": {
            "text/plain": [
              "array([1, 2, 3, 4])"
            ]
          },
          "metadata": {},
          "execution_count": 11
        }
      ]
    },
    {
      "cell_type": "markdown",
      "source": [
        "#Indexing\n"
      ],
      "metadata": {
        "id": "H513iOMcORJe"
      }
    },
    {
      "cell_type": "code",
      "source": [
        "## Indexing in array\n",
        "arra = np.array([1,2,3,4,5,6,7,8,9])"
      ],
      "metadata": {
        "id": "aNV3ZpNzWSs9"
      },
      "execution_count": 12,
      "outputs": []
    },
    {
      "cell_type": "code",
      "source": [
        "arr[3]"
      ],
      "metadata": {
        "id": "bocQAoc9X3ec",
        "colab": {
          "base_uri": "https://localhost:8080/"
        },
        "outputId": "c30b3524-3159-497f-852e-914ce50b9c82"
      },
      "execution_count": 13,
      "outputs": [
        {
          "output_type": "execute_result",
          "data": {
            "text/plain": [
              "np.int64(4)"
            ]
          },
          "metadata": {},
          "execution_count": 13
        }
      ]
    },
    {
      "cell_type": "code",
      "source": [
        "arr1"
      ],
      "metadata": {
        "colab": {
          "base_uri": "https://localhost:8080/"
        },
        "id": "8R3KeWJ3X7y9",
        "outputId": "da229854-ff50-4d9c-a6a1-0198f68093f7"
      },
      "execution_count": 14,
      "outputs": [
        {
          "output_type": "execute_result",
          "data": {
            "text/plain": [
              "array([[1, 2, 3, 4, 5],\n",
              "       [2, 3, 4, 5, 6],\n",
              "       [9, 7, 6, 8, 9]])"
            ]
          },
          "metadata": {},
          "execution_count": 14
        }
      ]
    },
    {
      "cell_type": "code",
      "source": [
        "# Left side should be consider row and right side consider column\n",
        "arr1[:,:]"
      ],
      "metadata": {
        "colab": {
          "base_uri": "https://localhost:8080/"
        },
        "id": "mJofhmPMYXV7",
        "outputId": "a65ae488-214c-4be4-f1d9-2f5d3c15c067"
      },
      "execution_count": 15,
      "outputs": [
        {
          "output_type": "execute_result",
          "data": {
            "text/plain": [
              "array([[1, 2, 3, 4, 5],\n",
              "       [2, 3, 4, 5, 6],\n",
              "       [9, 7, 6, 8, 9]])"
            ]
          },
          "metadata": {},
          "execution_count": 15
        }
      ]
    },
    {
      "cell_type": "code",
      "source": [
        "## Let's pick  0th and 1st row\n",
        "arr1[0:2,:]"
      ],
      "metadata": {
        "colab": {
          "base_uri": "https://localhost:8080/"
        },
        "id": "KpsF3KemQND6",
        "outputId": "7b4e05f4-201e-4e14-f27f-f74bf1d45809"
      },
      "execution_count": 16,
      "outputs": [
        {
          "output_type": "execute_result",
          "data": {
            "text/plain": [
              "array([[1, 2, 3, 4, 5],\n",
              "       [2, 3, 4, 5, 6]])"
            ]
          },
          "metadata": {},
          "execution_count": 16
        }
      ]
    },
    {
      "cell_type": "code",
      "source": [
        "arr1[0:2,0:2]"
      ],
      "metadata": {
        "colab": {
          "base_uri": "https://localhost:8080/"
        },
        "id": "_zI2AdAJQ7L4",
        "outputId": "9efc3a81-6543-4e03-c452-7d319503c0cb"
      },
      "execution_count": 17,
      "outputs": [
        {
          "output_type": "execute_result",
          "data": {
            "text/plain": [
              "array([[1, 2],\n",
              "       [2, 3]])"
            ]
          },
          "metadata": {},
          "execution_count": 17
        }
      ]
    },
    {
      "cell_type": "code",
      "source": [
        "arr1[1:,2:4]"
      ],
      "metadata": {
        "colab": {
          "base_uri": "https://localhost:8080/"
        },
        "id": "AueWBSUSX4WB",
        "outputId": "63161653-0d1a-4afc-a5ca-dd57a8c5a2f3"
      },
      "execution_count": 18,
      "outputs": [
        {
          "output_type": "execute_result",
          "data": {
            "text/plain": [
              "array([[4, 5],\n",
              "       [6, 8]])"
            ]
          },
          "metadata": {},
          "execution_count": 18
        }
      ]
    },
    {
      "cell_type": "code",
      "source": [
        "arr1[0:2,1:3]"
      ],
      "metadata": {
        "colab": {
          "base_uri": "https://localhost:8080/"
        },
        "id": "gz35iKyCTtu3",
        "outputId": "54cd180d-681d-402b-efa7-78978bb140b9"
      },
      "execution_count": 19,
      "outputs": [
        {
          "output_type": "execute_result",
          "data": {
            "text/plain": [
              "array([[2, 3],\n",
              "       [3, 4]])"
            ]
          },
          "metadata": {},
          "execution_count": 19
        }
      ]
    },
    {
      "cell_type": "code",
      "source": [
        "arr1[0:2,3:]"
      ],
      "metadata": {
        "colab": {
          "base_uri": "https://localhost:8080/"
        },
        "id": "2s8-ybpUWasa",
        "outputId": "238b9a15-641f-4677-f074-5df1b678c0c6"
      },
      "execution_count": 20,
      "outputs": [
        {
          "output_type": "execute_result",
          "data": {
            "text/plain": [
              "array([[4, 5],\n",
              "       [5, 6]])"
            ]
          },
          "metadata": {},
          "execution_count": 20
        }
      ]
    },
    {
      "cell_type": "code",
      "source": [
        "arr1[1:,]"
      ],
      "metadata": {
        "colab": {
          "base_uri": "https://localhost:8080/"
        },
        "id": "vDhXqeeiXdey",
        "outputId": "ebe8fddd-cf11-4f34-f84a-5f715ded1f45"
      },
      "execution_count": 21,
      "outputs": [
        {
          "output_type": "execute_result",
          "data": {
            "text/plain": [
              "array([[2, 3, 4, 5, 6],\n",
              "       [9, 7, 6, 8, 9]])"
            ]
          },
          "metadata": {},
          "execution_count": 21
        }
      ]
    },
    {
      "cell_type": "code",
      "source": [
        "arr1[1:,0:2]"
      ],
      "metadata": {
        "colab": {
          "base_uri": "https://localhost:8080/"
        },
        "id": "UYr5_aKuUEwp",
        "outputId": "11c5f066-b257-4844-9b79-aea800c70d14"
      },
      "execution_count": 22,
      "outputs": [
        {
          "output_type": "execute_result",
          "data": {
            "text/plain": [
              "array([[2, 3],\n",
              "       [9, 7]])"
            ]
          },
          "metadata": {},
          "execution_count": 22
        }
      ]
    },
    {
      "cell_type": "code",
      "source": [
        "arr1[1:,3:]"
      ],
      "metadata": {
        "colab": {
          "base_uri": "https://localhost:8080/"
        },
        "id": "_Jj0QnKpSFvD",
        "outputId": "e67da3a0-78ac-4dd6-dea5-6b99d6120f6b"
      },
      "execution_count": 40,
      "outputs": [
        {
          "output_type": "execute_result",
          "data": {
            "text/plain": [
              "array([[5, 6],\n",
              "       [8, 9]])"
            ]
          },
          "metadata": {},
          "execution_count": 40
        }
      ]
    },
    {
      "cell_type": "code",
      "source": [
        "arr1[1:3,1:3]"
      ],
      "metadata": {
        "colab": {
          "base_uri": "https://localhost:8080/"
        },
        "id": "CG9vxMVZRAtx",
        "outputId": "d733bb4b-9e41-40c4-9d1c-d1a5fdcb287f"
      },
      "execution_count": 51,
      "outputs": [
        {
          "output_type": "execute_result",
          "data": {
            "text/plain": [
              "array([[3, 4],\n",
              "       [7, 6]])"
            ]
          },
          "metadata": {},
          "execution_count": 51
        }
      ]
    },
    {
      "cell_type": "markdown",
      "source": [
        "#Arange\n"
      ],
      "metadata": {
        "id": "zx6PgH5qbBYG"
      }
    },
    {
      "cell_type": "code",
      "source": [
        "arr=np.arange(0,10)"
      ],
      "metadata": {
        "id": "Ghg4w8vTbDot"
      },
      "execution_count": 23,
      "outputs": []
    },
    {
      "cell_type": "code",
      "source": [
        "arr"
      ],
      "metadata": {
        "colab": {
          "base_uri": "https://localhost:8080/"
        },
        "id": "HPd-FPJibVhq",
        "outputId": "794f019e-9969-4b71-d37c-ce50324e2940"
      },
      "execution_count": 24,
      "outputs": [
        {
          "output_type": "execute_result",
          "data": {
            "text/plain": [
              "array([0, 1, 2, 3, 4, 5, 6, 7, 8, 9])"
            ]
          },
          "metadata": {},
          "execution_count": 24
        }
      ]
    },
    {
      "cell_type": "code",
      "source": [
        "## Step function in arange\n",
        "step_arr = np.arange(0,10, step=2)\n",
        "step_arr"
      ],
      "metadata": {
        "colab": {
          "base_uri": "https://localhost:8080/"
        },
        "id": "38v64E40blLL",
        "outputId": "b320e83e-521c-4a58-b8a9-b407dd4ddcd1"
      },
      "execution_count": 25,
      "outputs": [
        {
          "output_type": "execute_result",
          "data": {
            "text/plain": [
              "array([0, 2, 4, 6, 8])"
            ]
          },
          "metadata": {},
          "execution_count": 25
        }
      ]
    },
    {
      "cell_type": "code",
      "source": [
        "## linspace function\n",
        "np.linspace(1,10,50)"
      ],
      "metadata": {
        "colab": {
          "base_uri": "https://localhost:8080/"
        },
        "id": "IjluLwW2cHoZ",
        "outputId": "ae8b259c-426e-45e7-8bda-65ac4b5fd17f"
      },
      "execution_count": 26,
      "outputs": [
        {
          "output_type": "execute_result",
          "data": {
            "text/plain": [
              "array([ 1.        ,  1.18367347,  1.36734694,  1.55102041,  1.73469388,\n",
              "        1.91836735,  2.10204082,  2.28571429,  2.46938776,  2.65306122,\n",
              "        2.83673469,  3.02040816,  3.20408163,  3.3877551 ,  3.57142857,\n",
              "        3.75510204,  3.93877551,  4.12244898,  4.30612245,  4.48979592,\n",
              "        4.67346939,  4.85714286,  5.04081633,  5.2244898 ,  5.40816327,\n",
              "        5.59183673,  5.7755102 ,  5.95918367,  6.14285714,  6.32653061,\n",
              "        6.51020408,  6.69387755,  6.87755102,  7.06122449,  7.24489796,\n",
              "        7.42857143,  7.6122449 ,  7.79591837,  7.97959184,  8.16326531,\n",
              "        8.34693878,  8.53061224,  8.71428571,  8.89795918,  9.08163265,\n",
              "        9.26530612,  9.44897959,  9.63265306,  9.81632653, 10.        ])"
            ]
          },
          "metadata": {},
          "execution_count": 26
        }
      ]
    },
    {
      "cell_type": "markdown",
      "source": [
        "Copy function\n"
      ],
      "metadata": {
        "id": "zt_et1hz7XeP"
      }
    },
    {
      "cell_type": "code",
      "source": [
        "## Copy function and broadcasting\n",
        "arra[3:]=100"
      ],
      "metadata": {
        "id": "DRv2Sx3v9DOx"
      },
      "execution_count": 113,
      "outputs": []
    },
    {
      "cell_type": "code",
      "source": [
        "arra"
      ],
      "metadata": {
        "colab": {
          "base_uri": "https://localhost:8080/"
        },
        "id": "8C_i2xEi9HsQ",
        "outputId": "c5a907e3-1630-428c-8460-61226265a084"
      },
      "execution_count": 114,
      "outputs": [
        {
          "output_type": "execute_result",
          "data": {
            "text/plain": [
              "array([  1,   2,   3, 100, 100, 100, 100, 100, 100])"
            ]
          },
          "metadata": {},
          "execution_count": 114
        }
      ]
    },
    {
      "cell_type": "code",
      "source": [
        "arra1=arra"
      ],
      "metadata": {
        "id": "PLHstX76VR0C"
      },
      "execution_count": 115,
      "outputs": []
    },
    {
      "cell_type": "code",
      "source": [
        "arra1[3:]=500\n",
        "print(arra1)"
      ],
      "metadata": {
        "id": "a6cpM3yYVfa6",
        "outputId": "9aafa0f5-2966-48b2-e5fa-8012dfb37af1",
        "colab": {
          "base_uri": "https://localhost:8080/"
        }
      },
      "execution_count": 116,
      "outputs": [
        {
          "output_type": "stream",
          "name": "stdout",
          "text": [
            "[  1   2   3 500 500 500 500 500 500]\n"
          ]
        }
      ]
    },
    {
      "cell_type": "code",
      "source": [
        "arra1=arra.copy()"
      ],
      "metadata": {
        "id": "-j3h1_jUVrbf"
      },
      "execution_count": 117,
      "outputs": []
    },
    {
      "cell_type": "code",
      "source": [
        "print(arra)\n",
        "arra1[3:]=1000\n",
        "print(arra1)"
      ],
      "metadata": {
        "id": "LLdQ-XCpVxWi",
        "outputId": "e9e35691-a471-49f7-c6a8-f2b61ca59419",
        "colab": {
          "base_uri": "https://localhost:8080/"
        }
      },
      "execution_count": 118,
      "outputs": [
        {
          "output_type": "stream",
          "name": "stdout",
          "text": [
            "[  1   2   3 500 500 500 500 500 500]\n",
            "[   1    2    3 1000 1000 1000 1000 1000 1000]\n"
          ]
        }
      ]
    },
    {
      "cell_type": "code",
      "source": [
        "## Some conditios very useful in exploratary Data Analysis\n",
        "val=2\n",
        "arra[arra<val]"
      ],
      "metadata": {
        "id": "u_akl0UhWDmO",
        "outputId": "e33ab749-acca-4e78-9979-0fbe9a48f09a",
        "colab": {
          "base_uri": "https://localhost:8080/"
        }
      },
      "execution_count": 119,
      "outputs": [
        {
          "output_type": "execute_result",
          "data": {
            "text/plain": [
              "array([1])"
            ]
          },
          "metadata": {},
          "execution_count": 119
        }
      ]
    },
    {
      "cell_type": "code",
      "source": [
        "arra[arra<300]"
      ],
      "metadata": {
        "id": "y2KSAUnIXW2e",
        "outputId": "fdcc66d7-5974-41d6-8da6-1b28883a5ac0",
        "colab": {
          "base_uri": "https://localhost:8080/"
        }
      },
      "execution_count": 125,
      "outputs": [
        {
          "output_type": "execute_result",
          "data": {
            "text/plain": [
              "array([1, 2, 3])"
            ]
          },
          "metadata": {},
          "execution_count": 125
        }
      ]
    },
    {
      "cell_type": "code",
      "source": [
        "print(arra)\n",
        "arra<2"
      ],
      "metadata": {
        "id": "nHhw8DnvWZQS",
        "outputId": "5ed1be42-cda6-46ca-8ce3-65dd873ecfd0",
        "colab": {
          "base_uri": "https://localhost:8080/"
        }
      },
      "execution_count": 121,
      "outputs": [
        {
          "output_type": "stream",
          "name": "stdout",
          "text": [
            "[  1   2   3 500 500 500 500 500 500]\n"
          ]
        },
        {
          "output_type": "execute_result",
          "data": {
            "text/plain": [
              "array([ True, False, False, False, False, False, False, False, False])"
            ]
          },
          "metadata": {},
          "execution_count": 121
        }
      ]
    },
    {
      "cell_type": "code",
      "source": [
        "arra*2"
      ],
      "metadata": {
        "id": "NiF1jjQjWxKc",
        "outputId": "c16ff9ff-06c1-42ab-fdbe-0d864f29de54",
        "colab": {
          "base_uri": "https://localhost:8080/"
        }
      },
      "execution_count": 122,
      "outputs": [
        {
          "output_type": "execute_result",
          "data": {
            "text/plain": [
              "array([   2,    4,    6, 1000, 1000, 1000, 1000, 1000, 1000])"
            ]
          },
          "metadata": {},
          "execution_count": 122
        }
      ]
    },
    {
      "cell_type": "code",
      "source": [
        "arra/2"
      ],
      "metadata": {
        "id": "JoPa6iU9W9xE",
        "outputId": "a26e2950-aec0-4c70-fc0c-5b2ad492ea8e",
        "colab": {
          "base_uri": "https://localhost:8080/"
        }
      },
      "execution_count": 123,
      "outputs": [
        {
          "output_type": "execute_result",
          "data": {
            "text/plain": [
              "array([  0.5,   1. ,   1.5, 250. , 250. , 250. , 250. , 250. , 250. ])"
            ]
          },
          "metadata": {},
          "execution_count": 123
        }
      ]
    },
    {
      "cell_type": "code",
      "source": [
        "arra%2"
      ],
      "metadata": {
        "id": "MeNsKrl_XH7b",
        "outputId": "74d3d59b-83cb-470e-e45f-a8fbc10f4714",
        "colab": {
          "base_uri": "https://localhost:8080/"
        }
      },
      "execution_count": 124,
      "outputs": [
        {
          "output_type": "execute_result",
          "data": {
            "text/plain": [
              "array([1, 0, 1, 0, 0, 0, 0, 0, 0])"
            ]
          },
          "metadata": {},
          "execution_count": 124
        }
      ]
    },
    {
      "cell_type": "code",
      "source": [
        "ar = [0,1,2,3,4,5,6,7,8,9]\n",
        "ar[3:] = [500] * 7  # Hardcode 7 since you know the slice length\n",
        "print(ar)"
      ],
      "metadata": {
        "colab": {
          "base_uri": "https://localhost:8080/"
        },
        "id": "GdIrfMaQKxwP",
        "outputId": "cf0a8dde-3155-40ed-9ecf-396812b776be"
      },
      "execution_count": 95,
      "outputs": [
        {
          "output_type": "stream",
          "name": "stdout",
          "text": [
            "[0, 1, 2, 500, 500, 500, 500, 500, 500, 500]\n"
          ]
        }
      ]
    },
    {
      "cell_type": "code",
      "source": [
        "a1=ar\n"
      ],
      "metadata": {
        "id": "bx0pCCj7Qxs8"
      },
      "execution_count": 96,
      "outputs": []
    },
    {
      "cell_type": "code",
      "source": [
        "print(ar)\n",
        "a1[3:]=[600] * 7\n",
        "a1"
      ],
      "metadata": {
        "id": "Z4ZQNttoQ686",
        "outputId": "f1ea95ff-701b-481f-b47e-ef64b98331d1",
        "colab": {
          "base_uri": "https://localhost:8080/"
        }
      },
      "execution_count": 97,
      "outputs": [
        {
          "output_type": "stream",
          "name": "stdout",
          "text": [
            "[0, 1, 2, 500, 500, 500, 500, 500, 500, 500]\n"
          ]
        },
        {
          "output_type": "execute_result",
          "data": {
            "text/plain": [
              "[0, 1, 2, 600, 600, 600, 600, 600, 600, 600]"
            ]
          },
          "metadata": {},
          "execution_count": 97
        }
      ]
    },
    {
      "cell_type": "code",
      "source": [
        "a2=a1.copy()"
      ],
      "metadata": {
        "id": "3y_H47dURtJL"
      },
      "execution_count": 101,
      "outputs": []
    },
    {
      "cell_type": "code",
      "source": [
        "print(a1)\n",
        "a2[3:]=[1000] * 7\n",
        "print(a2)"
      ],
      "metadata": {
        "id": "41yoAfdZRdGC",
        "outputId": "6352acdc-876c-43b9-99a0-79882d10ad7d",
        "colab": {
          "base_uri": "https://localhost:8080/"
        }
      },
      "execution_count": 102,
      "outputs": [
        {
          "output_type": "stream",
          "name": "stdout",
          "text": [
            "[0, 1, 2, 1000, 1000, 1000, 1000, 1000, 1000, 1000]\n",
            "[0, 1, 2, 1000, 1000, 1000, 1000, 1000, 1000, 1000]\n"
          ]
        }
      ]
    },
    {
      "cell_type": "code",
      "source": [
        "## Ones\n",
        "np.ones(4,dtype=int\n",
        "        )"
      ],
      "metadata": {
        "id": "XuWY2NkNXuQN",
        "outputId": "17c89159-20e2-49ed-b391-79b3330fb8a3",
        "colab": {
          "base_uri": "https://localhost:8080/"
        }
      },
      "execution_count": 126,
      "outputs": [
        {
          "output_type": "execute_result",
          "data": {
            "text/plain": [
              "array([1, 1, 1, 1])"
            ]
          },
          "metadata": {},
          "execution_count": 126
        }
      ]
    },
    {
      "cell_type": "code",
      "source": [
        "np.ones((2,5),dtype=float)"
      ],
      "metadata": {
        "id": "EexJC0X5X9Hk",
        "outputId": "19d4fa6a-d2f9-49c3-df5e-9f6b17f6563a",
        "colab": {
          "base_uri": "https://localhost:8080/"
        }
      },
      "execution_count": 127,
      "outputs": [
        {
          "output_type": "execute_result",
          "data": {
            "text/plain": [
              "array([[1., 1., 1., 1., 1.],\n",
              "       [1., 1., 1., 1., 1.]])"
            ]
          },
          "metadata": {},
          "execution_count": 127
        }
      ]
    },
    {
      "cell_type": "code",
      "source": [
        "## Random distribution\n",
        "np.random.rand(3,3)"
      ],
      "metadata": {
        "id": "tUq02nRJYJrr",
        "outputId": "4d6e4eaf-fa85-477d-8703-525bfd8f51fc",
        "colab": {
          "base_uri": "https://localhost:8080/"
        }
      },
      "execution_count": 128,
      "outputs": [
        {
          "output_type": "execute_result",
          "data": {
            "text/plain": [
              "array([[0.48811811, 0.58082609, 0.45706198],\n",
              "       [0.40939002, 0.12056067, 0.65575518],\n",
              "       [0.55131898, 0.81256285, 0.68524206]])"
            ]
          },
          "metadata": {},
          "execution_count": 128
        }
      ]
    },
    {
      "cell_type": "code",
      "source": [
        "ar_ex=np.random.randn(4,4)\n",
        "print(ar_ex)"
      ],
      "metadata": {
        "id": "tIBCcDojYub_",
        "outputId": "95e595e3-285e-49ca-d717-c508365c79e8",
        "colab": {
          "base_uri": "https://localhost:8080/"
        }
      },
      "execution_count": 135,
      "outputs": [
        {
          "output_type": "stream",
          "name": "stdout",
          "text": [
            "[[-2.61978458 -1.74146873 -1.46412127  0.04948707]\n",
            " [-0.58001309  0.82522922 -2.55862177  0.88695569]\n",
            " [-0.19397145 -1.49796502 -0.91560456 -0.13070832]\n",
            " [ 0.05244755  0.73000159 -0.61508317 -0.36706673]]\n"
          ]
        }
      ]
    },
    {
      "cell_type": "code",
      "source": [
        "import seaborn as sns\n",
        "import pandas  as pd\n"
      ],
      "metadata": {
        "id": "iLkFY3GlZRXB"
      },
      "execution_count": 131,
      "outputs": []
    },
    {
      "cell_type": "code",
      "source": [
        "sns.displot(pd.DataFrame(ar_ex.reshape(16,1)))"
      ],
      "metadata": {
        "id": "ycEnMcFAZbkH",
        "outputId": "8332ff81-6bb9-4374-c9a7-8f3b443bcdb3",
        "colab": {
          "base_uri": "https://localhost:8080/",
          "height": 523
        }
      },
      "execution_count": 136,
      "outputs": [
        {
          "output_type": "execute_result",
          "data": {
            "text/plain": [
              "<seaborn.axisgrid.FacetGrid at 0x7decfdbe2570>"
            ]
          },
          "metadata": {},
          "execution_count": 136
        },
        {
          "output_type": "display_data",
          "data": {
            "text/plain": [
              "<Figure size 558.75x500 with 1 Axes>"
            ],
            "image/png": "[encoded data removed]"
          },
          "metadata": {}
        }
      ]
    },
    {
      "cell_type": "code",
      "source": [
        "# Randint\n",
        "np.random.randint(0,100,8)"
      ],
      "metadata": {
        "id": "FF3XdrXuaQIZ",
        "outputId": "e543c5a9-0324-49ac-f1ef-58731183f331",
        "colab": {
          "base_uri": "https://localhost:8080/"
        }
      },
      "execution_count": 139,
      "outputs": [
        {
          "output_type": "execute_result",
          "data": {
            "text/plain": [
              "array([64, 45, 83, 20, 95, 63, 32, 26])"
            ]
          },
          "metadata": {},
          "execution_count": 139
        }
      ]
    },
    {
      "cell_type": "code",
      "source": [
        "# Randint with shap\n",
        "np.random.randint(0,100,8).reshape(2,4)"
      ],
      "metadata": {
        "id": "QYMcP-lRaoJi",
        "outputId": "edf42215-154c-4284-d674-a424bbc12428",
        "colab": {
          "base_uri": "https://localhost:8080/"
        }
      },
      "execution_count": 140,
      "outputs": [
        {
          "output_type": "execute_result",
          "data": {
            "text/plain": [
              "array([[25, 33, 89, 83],\n",
              "       [32, 21, 23, 27]])"
            ]
          },
          "metadata": {},
          "execution_count": 140
        }
      ]
    },
    {
      "cell_type": "code",
      "source": [
        "np.random.random_sample((1,5))"
      ],
      "metadata": {
        "id": "3k7TS2n8a9Wd",
        "outputId": "f61f771f-e185-4ce5-8823-5a2f128c553b",
        "colab": {
          "base_uri": "https://localhost:8080/"
        }
      },
      "execution_count": 141,
      "outputs": [
        {
          "output_type": "execute_result",
          "data": {
            "text/plain": [
              "array([[0.41125805, 0.74760181, 0.12421932, 0.31538339, 0.29008269]])"
            ]
          },
          "metadata": {},
          "execution_count": 141
        }
      ]
    }
  ]
}